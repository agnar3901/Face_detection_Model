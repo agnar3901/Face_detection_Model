{
 "cells": [
  {
   "cell_type": "code",
   "execution_count": 1,
   "id": "ff5e11c5",
   "metadata": {},
   "outputs": [
    {
     "name": "stdout",
     "output_type": "stream",
     "text": [
      "✅ Found 300 identities with ≥150 images.\n"
     ]
    },
    {
     "name": "stderr",
     "output_type": "stream",
     "text": [
      "Copying identities: 100%|████████████████████████████████████████████████████████████| 300/300 [00:51<00:00,  5.78it/s]"
     ]
    },
    {
     "name": "stdout",
     "output_type": "stream",
     "text": [
      "✅ Done: Copied 300 balanced identities to vggface2_raw_300_balanced\n"
     ]
    },
    {
     "name": "stderr",
     "output_type": "stream",
     "text": [
      "\n"
     ]
    }
   ],
   "source": [
    "import os\n",
    "import shutil\n",
    "from tqdm import tqdm\n",
    "\n",
    "SOURCE_DIR = 'vggface2_full'\n",
    "DEST_DIR = 'vggface2_raw_300_balanced'\n",
    "NUM_CLASSES = 300\n",
    "MIN_IMAGES_PER_IDENTITY = 150\n",
    "IMAGES_PER_CLASS = 150\n",
    "\n",
    "os.makedirs(DEST_DIR, exist_ok=True)\n",
    "\n",
    "qualified_ids = []\n",
    "for identity in os.listdir(SOURCE_DIR):\n",
    "    identity_path = os.path.join(SOURCE_DIR, identity)\n",
    "    if os.path.isdir(identity_path):\n",
    "        images = [img for img in os.listdir(identity_path) if img.lower().endswith(('.jpg', '.jpeg', '.png'))]\n",
    "        if len(images) >= MIN_IMAGES_PER_IDENTITY:\n",
    "            qualified_ids.append((identity, len(images)))\n",
    "\n",
    "qualified_ids.sort(key=lambda x: x[1], reverse=True)\n",
    "selected_ids = qualified_ids[:NUM_CLASSES]\n",
    "\n",
    "print(f\"✅ Found {len(selected_ids)} identities with ≥{MIN_IMAGES_PER_IDENTITY} images.\")\n",
    "\n",
    "for identity, _ in tqdm(selected_ids, desc=\"Copying identities\"):\n",
    "    src = os.path.join(SOURCE_DIR, identity)\n",
    "    dst = os.path.join(DEST_DIR, identity)\n",
    "    os.makedirs(dst, exist_ok=True)\n",
    "\n",
    "    images = [img for img in os.listdir(src) if img.lower().endswith(('.jpg', '.jpeg', '.png'))]\n",
    "    selected = images[:IMAGES_PER_CLASS]\n",
    "    for img in selected:\n",
    "        shutil.copy2(os.path.join(src, img), os.path.join(dst, img))\n",
    "\n",
    "# Optional: save identity info to file\n",
    "with open(\"top_300_identities.txt\", \"w\") as f:\n",
    "    for identity, count in selected_ids:\n",
    "        f.write(f\"{identity},{count}\\n\")\n",
    "\n",
    "print(f\"✅ Done: Copied 300 balanced identities to {DEST_DIR}\")\n"
   ]
  },
  {
   "cell_type": "code",
   "execution_count": null,
   "id": "5b0e5c7b",
   "metadata": {},
   "outputs": [],
   "source": []
  }
 ],
 "metadata": {
  "kernelspec": {
   "display_name": "faceid",
   "language": "python",
   "name": "faceid"
  },
  "language_info": {
   "codemirror_mode": {
    "name": "ipython",
    "version": 3
   },
   "file_extension": ".py",
   "mimetype": "text/x-python",
   "name": "python",
   "nbconvert_exporter": "python",
   "pygments_lexer": "ipython3",
   "version": "3.7.5"
  }
 },
 "nbformat": 4,
 "nbformat_minor": 5
}
