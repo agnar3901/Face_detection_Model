{
 "cells": [
  {
   "cell_type": "code",
   "execution_count": 3,
   "id": "cd55cff2",
   "metadata": {},
   "outputs": [
    {
     "name": "stderr",
     "output_type": "stream",
     "text": [
      "Merging from VGGFace2/train: 100%|███████████████████████████████████████████████████| 480/480 [04:04<00:00,  1.96it/s]\n",
      "Merging from VGGFace2/val: 100%|███████████████████████████████████████████████████████| 60/60 [00:37<00:00,  1.60it/s]"
     ]
    },
    {
     "name": "stdout",
     "output_type": "stream",
     "text": [
      "✅ Merged both train and val into vggface2_full/\n"
     ]
    },
    {
     "name": "stderr",
     "output_type": "stream",
     "text": [
      "\n"
     ]
    }
   ],
   "source": [
    "import os\n",
    "import shutil\n",
    "from tqdm import tqdm\n",
    "\n",
    "# Paths to original folders\n",
    "SOURCE_DIRS = ['VGGFace2/train', 'VGGFace2/val']\n",
    "DEST_DIR = 'vggface2_full'\n",
    "\n",
    "# Create destination if it doesn't exist\n",
    "os.makedirs(DEST_DIR, exist_ok=True)\n",
    "\n",
    "# Loop through both train and val\n",
    "for source in SOURCE_DIRS:\n",
    "    for identity in tqdm(os.listdir(source), desc=f\"Merging from {source}\"):\n",
    "        src_path = os.path.join(source, identity)\n",
    "        dest_path = os.path.join(DEST_DIR, identity)\n",
    "\n",
    "        # Copy folder if it doesn't already exist\n",
    "        if os.path.isdir(src_path) and not os.path.exists(dest_path):\n",
    "            shutil.copytree(src_path, dest_path)\n",
    "\n",
    "print(\"✅ Merged both train and val into vggface2_full/\")\n"
   ]
  },
  {
   "cell_type": "code",
   "execution_count": 2,
   "id": "6933cb76",
   "metadata": {},
   "outputs": [
    {
     "name": "stdout",
     "output_type": "stream",
     "text": [
      "Collecting tqdm\n",
      "  Downloading tqdm-4.67.1-py3-none-any.whl.metadata (57 kB)\n",
      "     ---------------------------------------- 57.7/57.7 kB 1.5 MB/s eta 0:00:00\n",
      "Requirement already satisfied: colorama in c:\\4_2_project\\faceid\\lib\\site-packages (from tqdm) (0.4.6)\n",
      "Downloading tqdm-4.67.1-py3-none-any.whl (78 kB)\n",
      "   ---------------------------------------- 78.5/78.5 kB 1.5 MB/s eta 0:00:00\n",
      "Installing collected packages: tqdm\n",
      "Successfully installed tqdm-4.67.1\n"
     ]
    }
   ],
   "source": [
    "\n"
   ]
  },
  {
   "cell_type": "code",
   "execution_count": null,
   "id": "7945e307",
   "metadata": {},
   "outputs": [],
   "source": []
  }
 ],
 "metadata": {
  "kernelspec": {
   "display_name": "faceid",
   "language": "python",
   "name": "faceid"
  },
  "language_info": {
   "codemirror_mode": {
    "name": "ipython",
    "version": 3
   },
   "file_extension": ".py",
   "mimetype": "text/x-python",
   "name": "python",
   "nbconvert_exporter": "python",
   "pygments_lexer": "ipython3",
   "version": "3.7.5"
  }
 },
 "nbformat": 4,
 "nbformat_minor": 5
}
