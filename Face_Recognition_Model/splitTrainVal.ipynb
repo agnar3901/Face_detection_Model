{
 "cells": [
  {
   "cell_type": "code",
   "execution_count": 4,
   "id": "84d729e3",
   "metadata": {},
   "outputs": [
    {
     "name": "stderr",
     "output_type": "stream",
     "text": [
      "Splitting train/val: 100%|███████████████████████████████████████████████████████████| 300/300 [00:48<00:00,  6.13it/s]"
     ]
    },
    {
     "name": "stdout",
     "output_type": "stream",
     "text": [
      "✅ Dataset split complete: 80% train / 20% val\n"
     ]
    },
    {
     "name": "stderr",
     "output_type": "stream",
     "text": [
      "\n"
     ]
    }
   ],
   "source": [
    "import os\n",
    "import shutil\n",
    "import random\n",
    "from tqdm import tqdm\n",
    "\n",
    "SOURCE_DIR = 'vggface2_raw_300_balanced'\n",
    "DEST_DIR = 'vggface2_subset'\n",
    "TRAIN_RATIO = 0.8\n",
    "\n",
    "train_dir = os.path.join(DEST_DIR, 'train')\n",
    "val_dir = os.path.join(DEST_DIR, 'val')\n",
    "os.makedirs(train_dir, exist_ok=True)\n",
    "os.makedirs(val_dir, exist_ok=True)\n",
    "\n",
    "for identity in tqdm(os.listdir(SOURCE_DIR), desc=\"Splitting train/val\"):\n",
    "    identity_path = os.path.join(SOURCE_DIR, identity)\n",
    "    if not os.path.isdir(identity_path):\n",
    "        continue\n",
    "\n",
    "    images = [img for img in os.listdir(identity_path) if img.lower().endswith(('.jpg', '.jpeg', '.png'))]\n",
    "    random.shuffle(images)\n",
    "\n",
    "    split_idx = int(len(images) * TRAIN_RATIO)\n",
    "    train_images = images[:split_idx]\n",
    "    val_images = images[split_idx:]\n",
    "\n",
    "    train_identity_path = os.path.join(train_dir, identity)\n",
    "    val_identity_path = os.path.join(val_dir, identity)\n",
    "    os.makedirs(train_identity_path, exist_ok=True)\n",
    "    os.makedirs(val_identity_path, exist_ok=True)\n",
    "\n",
    "    for img in train_images:\n",
    "        shutil.copy2(os.path.join(identity_path, img), os.path.join(train_identity_path, img))\n",
    "    for img in val_images:\n",
    "        shutil.copy2(os.path.join(identity_path, img), os.path.join(val_identity_path, img))\n",
    "\n",
    "print(\"✅ Dataset split complete: 80% train / 20% val\")\n"
   ]
  },
  {
   "cell_type": "code",
   "execution_count": null,
   "id": "e4f1a78e",
   "metadata": {},
   "outputs": [],
   "source": []
  }
 ],
 "metadata": {
  "kernelspec": {
   "display_name": "faceid",
   "language": "python",
   "name": "faceid"
  },
  "language_info": {
   "codemirror_mode": {
    "name": "ipython",
    "version": 3
   },
   "file_extension": ".py",
   "mimetype": "text/x-python",
   "name": "python",
   "nbconvert_exporter": "python",
   "pygments_lexer": "ipython3",
   "version": "3.7.5"
  }
 },
 "nbformat": 4,
 "nbformat_minor": 5
}
